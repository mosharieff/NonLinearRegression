{
 "cells": [
  {
   "cell_type": "markdown",
   "id": "a094f4e1-0242-41cc-8f00-7873c665e971",
   "metadata": {},
   "source": [
    "# Creating an ANOVA Table for a Non-Linear Regression\n",
    "\n",
    "### By. Mo"
   ]
  },
  {
   "cell_type": "markdown",
   "id": "76757859-f16a-4ad5-a8bc-5d2fdf4561c4",
   "metadata": {},
   "source": [
    "## Formulas to know\n",
    "\n",
    "### Solving for the beta values in your regression\n",
    " $ \\Large \\beta = (X^TX)^{-1}X^TY $\n",
    "\n",
    "### Calculating Yhat\n",
    "\n",
    "$ \\Large \\hat{Y} = X \\beta $\n",
    "\n",
    "### Calculating Ymean\n",
    "\n",
    "$ \\Large Y_\\mu = \\dfrac{1}{n} \\sum_{i=1}^n Y_i $\n",
    "\n",
    "### Calculating RSS\n",
    "\n",
    "$ \\Large RSS = \\sum_{i=1}^n (Y_i - \\hat{Y_i})^2 $\n",
    "\n",
    "### Calculating TSS\n",
    "\n",
    "$ \\Large TSS = \\sum_{i=1}^n (Y_i - Y_\\mu)^2 $\n",
    "\n",
    "### Calculating ESS\n",
    "\n",
    "$ \\Large ESS = TSS - RSS $\n",
    "\n",
    "### Calculating F-Stat\n",
    "\n",
    "$ \\Large F = \\dfrac{\\tfrac{ESS}{m}}{\\tfrac{RSS}{n - m - 1}} $\n",
    "\n",
    "### Calculating R^2\n",
    "\n",
    "$ \\Large R^2 = 1 - \\dfrac{RSS}{TSS} $\n",
    "\n",
    "### Calculating Adj. R^2\n",
    "\n",
    "$ \\Large AR^2 = 1 - \\dfrac{(1 - R^2)(n - 1)}{(n - m - 1)} $\n",
    "\n",
    "### Calculating Standard Error\n",
    "\n",
    "$ \\Large S.E = \\dfrac{RSS}{n - m + 1}diagonal \\Big ((X^TX)^{-1} \\Big )$\n",
    "\n",
    "### Calculating Test Statistic\n",
    "\n",
    "$ \\Large TStat = \\dfrac{\\beta}{S.E} $"
   ]
  },
  {
   "cell_type": "code",
   "execution_count": 1,
   "id": "71a942fa-44d7-4df2-ac0e-bdb39cd13fba",
   "metadata": {},
   "outputs": [],
   "source": [
    "# Lets start by importing some libraries\n",
    "\n",
    "%matplotlib inline\n",
    "import numpy as np\n",
    "import matplotlib.pyplot as plt"
   ]
  },
  {
   "cell_type": "code",
   "execution_count": 2,
   "id": "e2fb6c82-83a4-4781-9e15-c1da862664b1",
   "metadata": {},
   "outputs": [],
   "source": [
    "# Create some fake data\n",
    "\n",
    "x = [5, 6, 3, 1, 2, 5, 1, 9, 9, 4, 7, 12, 13, 5, 8]\n",
    "y = [2, 3, 5, 8, 13, 21, 17, 14, 9, 4, 3, 9, 2, 1, 6]"
   ]
  },
  {
   "cell_type": "code",
   "execution_count": 3,
   "id": "ffc1fe03-fd0c-4862-be63-9055f4f0e099",
   "metadata": {},
   "outputs": [
    {
     "data": {
      "text/plain": [
       "<matplotlib.collections.PathCollection at 0x10d038a50>"
      ]
     },
     "execution_count": 3,
     "metadata": {},
     "output_type": "execute_result"
    },
    {
     "data": {
      "image/png": "[encoded data removed]",
      "text/plain": [
       "<Figure size 640x480 with 1 Axes>"
      ]
     },
     "metadata": {},
     "output_type": "display_data"
    }
   ],
   "source": [
    "# Plot the fake data in a scatter plot\n",
    "fig = plt.figure()\n",
    "ax = fig.add_subplot(111)\n",
    "\n",
    "ax.scatter(x, y, color='red', s=50)"
   ]
  },
  {
   "cell_type": "markdown",
   "id": "380783a1-6cff-4453-a9dc-532b95d7a6e1",
   "metadata": {},
   "source": [
    "### Model Used\n",
    "In this non-linear regression, we will use the following model\n"
   ]
  },
  {
   "cell_type": "markdown",
   "id": "ad169e25-c60c-45e2-bf7f-bfa3128d66b4",
   "metadata": {},
   "source": [
    "$ \\Large \\hat{Y} = \\beta_0 + \\beta_1 X_1 + \\beta_2 X_1^2 + \\beta_3 e^X_1 $"
   ]
  },
  {
   "cell_type": "code",
   "execution_count": 4,
   "id": "cb095679-9c62-4686-aebf-f3e9ff8ca25a",
   "metadata": {},
   "outputs": [],
   "source": [
    "# Prepare the data for the regression\n",
    "\n",
    "# Squares values\n",
    "def Square(q):\n",
    "    return q**2\n",
    "\n",
    "# Gives values the e base\n",
    "def Exp(q):\n",
    "    return np.exp(q)\n",
    "\n",
    "# Build X matrix by adding 1 for the intercept and squaring and raising the value to e to the power of x\n",
    "X = []\n",
    "X.append(np.ones(len(x)).tolist())\n",
    "X.append(x)\n",
    "X.append(list(map(Square, x)))\n",
    "X.append(list(map(Exp, x)))\n",
    "\n",
    "# Final matrix is built and transposed\n",
    "X = np.array(X).T\n",
    "Y = np.array(y)"
   ]
  },
  {
   "cell_type": "code",
   "execution_count": 5,
   "id": "036af1f1-3166-4420-b261-4c427db2ac73",
   "metadata": {},
   "outputs": [
    {
     "name": "stdout",
     "output_type": "stream",
     "text": [
      "[16.220787950345674, -3.759429404861977, 0.3339692176691432, -5.070450843763216e-05]\n"
     ]
    }
   ],
   "source": [
    "# Calculate Beta & Yhat & the mean of Y\n",
    "beta = np.linalg.inv(X.T @ X) @ X.T @ Y\n",
    "Yhat = X @ beta\n",
    "Ymu = np.mean(Y)\n",
    "print(beta.tolist())"
   ]
  },
  {
   "cell_type": "code",
   "execution_count": 6,
   "id": "33cc6301-eec9-451a-a67e-95a700408c10",
   "metadata": {},
   "outputs": [
    {
     "name": "stdout",
     "output_type": "stream",
     "text": [
      "-2.0046186932631826e-12\n"
     ]
    }
   ],
   "source": [
    "# Check to see if Y - Yhat sum = 0\n",
    "print(np.sum(Y - Yhat))"
   ]
  },
  {
   "cell_type": "code",
   "execution_count": 7,
   "id": "410e6130-dcbb-4658-b885-e1d1d07f5ff8",
   "metadata": {},
   "outputs": [
    {
     "name": "stdout",
     "output_type": "stream",
     "text": [
      "381.7381691769257 512.4 130.6618308230743\n"
     ]
    }
   ],
   "source": [
    "# Calculate RSS & TSS & ESS\n",
    "RSS = np.sum((Y - Yhat)**2)\n",
    "TSS = np.sum((Y - Ymu)**2)\n",
    "ESS = TSS - RSS\n",
    "\n",
    "print(RSS, TSS, ESS)"
   ]
  },
  {
   "cell_type": "code",
   "execution_count": 8,
   "id": "0971183f-87f6-46ec-b7ae-343eb191e435",
   "metadata": {},
   "outputs": [
    {
     "name": "stdout",
     "output_type": "stream",
     "text": [
      "F-Statistic:  1.2550313758710316\n"
     ]
    }
   ],
   "source": [
    "# Calculate F-Statistic\n",
    "n, m = X.shape\n",
    "m -= 1\n",
    "\n",
    "F = (ESS/m)/(RSS/(n - m - 1))\n",
    "\n",
    "print(\"F-Statistic: \", F)"
   ]
  },
  {
   "cell_type": "code",
   "execution_count": 9,
   "id": "5f3708ab-2845-401b-a616-770a978bc481",
   "metadata": {},
   "outputs": [
    {
     "name": "stdout",
     "output_type": "stream",
     "text": [
      "RSq: 0.25499966983425904 | AdjRsq: 0.05181776160723883\n"
     ]
    }
   ],
   "source": [
    "# Calculate R^2 & Adj. R^2\n",
    "R2 = 1 - RSS/TSS\n",
    "AdjR2 = 1 - (1 - R2)*(n - 1)/(n - m - 1)\n",
    "\n",
    "print(f'RSq: {R2} | AdjRsq: {AdjR2}')"
   ]
  },
  {
   "cell_type": "code",
   "execution_count": 10,
   "id": "db73b0fc-3783-418e-a4b9-02f5184dc279",
   "metadata": {},
   "outputs": [
    {
     "name": "stdout",
     "output_type": "stream",
     "text": [
      "[5.265379520527584, 2.1826237242311843, 0.198768913498449, 3.1599981408769336e-05]\n"
     ]
    }
   ],
   "source": [
    "# Calculate Standard Error\n",
    "se = ((RSS/(n - len(X[0])))*np.diagonal(np.linalg.inv(X.T @ X)))**0.5\n",
    "\n",
    "print(se.tolist())"
   ]
  },
  {
   "cell_type": "code",
   "execution_count": 11,
   "id": "8c421443-4924-496b-941e-db36722bb821",
   "metadata": {},
   "outputs": [
    {
     "name": "stdout",
     "output_type": "stream",
     "text": [
      "[3.080649341060295, -1.7224358752840978, 1.6801883744851742, -1.6045739958429568]\n"
     ]
    }
   ],
   "source": [
    "# Compute the test statistics\n",
    "test_stat = beta / se\n",
    "\n",
    "print(test_stat.tolist())"
   ]
  },
  {
   "cell_type": "markdown",
   "id": "f0849720-cdab-4a7e-8446-4357adb9af12",
   "metadata": {},
   "source": [
    "### The only two beta coefficients which are significant are Beta2 and Beta3, overall this model sucks due to the outliers"
   ]
  },
  {
   "cell_type": "code",
   "execution_count": 12,
   "id": "426cd7cb-a479-47ac-8b84-0b80f0d0120d",
   "metadata": {},
   "outputs": [
    {
     "data": {
      "image/png": "[encoded data removed]",
      "text/plain": [
       "<Figure size 640x480 with 1 Axes>"
      ]
     },
     "metadata": {},
     "output_type": "display_data"
    }
   ],
   "source": [
    "# Plot the regression line\n",
    "\n",
    "# Set increment\n",
    "da = 0.01\n",
    "\n",
    "# Fetch list of numbers\n",
    "ux = np.arange(np.min(x), np.max(x)+da, da)\n",
    "\n",
    "# Create lists to plot the regression line\n",
    "ex, ey = [], []\n",
    "for i in ux:\n",
    "    ex.append(i)\n",
    "    H = np.array([1, i, i**2, np.exp(i)])\n",
    "    ey.append(H @ beta)\n",
    "\n",
    "fig = plt.figure()\n",
    "ax = fig.add_subplot(111)\n",
    "\n",
    "ax.scatter(x, y, color='red')\n",
    "ax.plot(ex, ey, color='blue')\n",
    "\n",
    "plt.show()"
   ]
  }
 ],
 "metadata": {
  "kernelspec": {
   "display_name": "Python 3 (ipykernel)",
   "language": "python",
   "name": "python3"
  },
  "language_info": {
   "codemirror_mode": {
    "name": "ipython",
    "version": 3
   },
   "file_extension": ".py",
   "mimetype": "text/x-python",
   "name": "python",
   "nbconvert_exporter": "python",
   "pygments_lexer": "ipython3",
   "version": "3.11.5"
  }
 },
 "nbformat": 4,
 "nbformat_minor": 5
}
